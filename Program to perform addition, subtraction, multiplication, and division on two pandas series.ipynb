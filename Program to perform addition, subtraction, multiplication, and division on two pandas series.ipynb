{
  "nbformat": 4,
  "nbformat_minor": 0,
  "metadata": {
    "colab": {
      "provenance": [],
      "authorship_tag": "ABX9TyMuFccQMFzmZBERo6dbpTiR",
      "include_colab_link": true
    },
    "kernelspec": {
      "name": "python3",
      "display_name": "Python 3"
    },
    "language_info": {
      "name": "python"
    }
  },
  "cells": [
    {
      "cell_type": "markdown",
      "metadata": {
        "id": "view-in-github",
        "colab_type": "text"
      },
      "source": [
        "<a href=\"https://colab.research.google.com/github/Sarwat-Bashir/Data-Analytics_Using_Python/blob/main/Program%20to%20perform%20addition%2C%20subtraction%2C%20multiplication%2C%20and%20division%20on%20two%20pandas%20series.ipynb\" target=\"_parent\"><img src=\"https://colab.research.google.com/assets/colab-badge.svg\" alt=\"Open In Colab\"/></a>"
      ]
    },
    {
      "cell_type": "code",
      "execution_count": null,
      "metadata": {
        "id": "WBc-d8sCc-S_"
      },
      "outputs": [],
      "source": []
    },
    {
      "cell_type": "markdown",
      "source": [
        "Program to perform addition, subtraction, multiplication, and division on two pandas series"
      ],
      "metadata": {
        "id": "fm8OtgdPdrUZ"
      }
    },
    {
      "cell_type": "code",
      "source": [
        "import pandas as pd"
      ],
      "metadata": {
        "id": "8efMm0FBd2UA"
      },
      "execution_count": 1,
      "outputs": []
    },
    {
      "cell_type": "code",
      "source": [
        "s1 = input(\"Enter numbers for Series 1, separated by commas: \")\n",
        "s2 = input(\"Enter numbers for Series 2, separated by commas: \")"
      ],
      "metadata": {
        "colab": {
          "base_uri": "https://localhost:8080/"
        },
        "id": "1TFiP2Whd4px",
        "outputId": "727e7de9-1d0e-4b23-8507-bf7d82c13423"
      },
      "execution_count": 2,
      "outputs": [
        {
          "name": "stdout",
          "output_type": "stream",
          "text": [
            "Enter numbers for Series 1, separated by commas: 2,4,6,8,10\n",
            "Enter numbers for Series 2, separated by commas: 1,2,5,7,9\n"
          ]
        }
      ]
    },
    {
      "cell_type": "code",
      "source": [
        "s1 = pd.Series([float(x) for x in s1.split(\",\")])\n",
        "s2 = pd.Series([float(x) for x in s2.split(\",\")])"
      ],
      "metadata": {
        "id": "TbalnSKXd_fg"
      },
      "execution_count": 3,
      "outputs": []
    },
    {
      "cell_type": "code",
      "source": [
        "# Perform operations\n",
        "addition = s1 + s2\n",
        "subtraction = s1 - s2\n",
        "multiplication = s1 * s2\n",
        "division = s1 / s2"
      ],
      "metadata": {
        "id": "mNKNQpfSeQfx"
      },
      "execution_count": 5,
      "outputs": []
    },
    {
      "cell_type": "code",
      "source": [
        "# Display results\n",
        "print(\"\\nSeries 1:\\n\", s1)\n",
        "print(\"\\nSeries 2:\\n\", s2)\n",
        "print(\"\\nAddition:\\n\", addition)\n",
        "print(\"\\nSubtraction:\\n\", subtraction)\n",
        "print(\"\\nMultiplication:\\n\", multiplication)\n",
        "print(\"\\nDivision:\\n\", division)"
      ],
      "metadata": {
        "colab": {
          "base_uri": "https://localhost:8080/"
        },
        "id": "-6chjjQ2eVUQ",
        "outputId": "2215d7b5-2197-42e3-c5e4-4a230c7dd915"
      },
      "execution_count": 7,
      "outputs": [
        {
          "output_type": "stream",
          "name": "stdout",
          "text": [
            "\n",
            "Series 1:\n",
            " 0     2.0\n",
            "1     4.0\n",
            "2     6.0\n",
            "3     8.0\n",
            "4    10.0\n",
            "dtype: float64\n",
            "\n",
            "Series 2:\n",
            " 0    1.0\n",
            "1    2.0\n",
            "2    5.0\n",
            "3    7.0\n",
            "4    9.0\n",
            "dtype: float64\n",
            "\n",
            "Addition:\n",
            " 0     3.0\n",
            "1     6.0\n",
            "2    11.0\n",
            "3    15.0\n",
            "4    19.0\n",
            "dtype: float64\n",
            "\n",
            "Subtraction:\n",
            " 0    1.0\n",
            "1    2.0\n",
            "2    1.0\n",
            "3    1.0\n",
            "4    1.0\n",
            "dtype: float64\n",
            "\n",
            "Multiplication:\n",
            " 0     2.0\n",
            "1     8.0\n",
            "2    30.0\n",
            "3    56.0\n",
            "4    90.0\n",
            "dtype: float64\n",
            "\n",
            "Division:\n",
            " 0    2.000000\n",
            "1    2.000000\n",
            "2    1.200000\n",
            "3    1.142857\n",
            "4    1.111111\n",
            "dtype: float64\n"
          ]
        }
      ]
    },
    {
      "cell_type": "code",
      "source": [],
      "metadata": {
        "id": "XXJCGtw9efS_"
      },
      "execution_count": null,
      "outputs": []
    }
  ]
}