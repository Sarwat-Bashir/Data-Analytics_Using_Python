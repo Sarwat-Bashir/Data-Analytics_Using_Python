{
  "nbformat": 4,
  "nbformat_minor": 0,
  "metadata": {
    "colab": {
      "provenance": [],
      "authorship_tag": "ABX9TyNoNruAzeW4kJVoV9I8avKn",
      "include_colab_link": true
    },
    "kernelspec": {
      "name": "python3",
      "display_name": "Python 3"
    },
    "language_info": {
      "name": "python"
    }
  },
  "cells": [
    {
      "cell_type": "markdown",
      "metadata": {
        "id": "view-in-github",
        "colab_type": "text"
      },
      "source": [
        "<a href=\"https://colab.research.google.com/github/Sarwat-Bashir/Data-Analytics_Using_Python/blob/main/Create%20a%202x5%20array%20of%20random%20numbers%20from%20normal%20distribution%20(mean%3D200%2C%20std%3D7).ipynb\" target=\"_parent\"><img src=\"https://colab.research.google.com/assets/colab-badge.svg\" alt=\"Open In Colab\"/></a>"
      ]
    },
    {
      "cell_type": "code",
      "execution_count": null,
      "metadata": {
        "id": "ysq8GHB1bpBl"
      },
      "outputs": [],
      "source": []
    },
    {
      "cell_type": "markdown",
      "source": [
        "Create a 2x5 array of random numbers from normal distribution (mean=200, std=7)"
      ],
      "metadata": {
        "id": "p2auEMz-cBMQ"
      }
    },
    {
      "cell_type": "code",
      "source": [
        "import numpy as np"
      ],
      "metadata": {
        "id": "Ulz9aWEBcBzo"
      },
      "execution_count": 1,
      "outputs": []
    },
    {
      "cell_type": "code",
      "source": [
        "array = np.random.normal(loc=200, scale=7, size=(2, 5))\n",
        "print(array)"
      ],
      "metadata": {
        "colab": {
          "base_uri": "https://localhost:8080/"
        },
        "id": "xKJNp8dQcJmo",
        "outputId": "9a9d3931-23cc-401c-b0fa-204bb4b09729"
      },
      "execution_count": 2,
      "outputs": [
        {
          "output_type": "stream",
          "name": "stdout",
          "text": [
            "[[196.12872258 215.28571808 204.7418174  190.03709253 201.0219854 ]\n",
            " [196.75211579 198.56688642 203.90530623 207.63249269 204.49958228]]\n"
          ]
        }
      ]
    },
    {
      "cell_type": "code",
      "source": [],
      "metadata": {
        "id": "nFz6FSZTcMvo"
      },
      "execution_count": null,
      "outputs": []
    }
  ]
}