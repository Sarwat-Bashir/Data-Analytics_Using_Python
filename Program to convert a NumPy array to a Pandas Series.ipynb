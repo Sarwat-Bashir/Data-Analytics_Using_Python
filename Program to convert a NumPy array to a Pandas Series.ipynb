{
  "nbformat": 4,
  "nbformat_minor": 0,
  "metadata": {
    "colab": {
      "provenance": [],
      "authorship_tag": "ABX9TyMSQXZRhakhxi8fgvBdUDIq",
      "include_colab_link": true
    },
    "kernelspec": {
      "name": "python3",
      "display_name": "Python 3"
    },
    "language_info": {
      "name": "python"
    }
  },
  "cells": [
    {
      "cell_type": "markdown",
      "metadata": {
        "id": "view-in-github",
        "colab_type": "text"
      },
      "source": [
        "<a href=\"https://colab.research.google.com/github/Sarwat-Bashir/Data-Analytics_Using_Python/blob/main/Program%20to%20convert%20a%20NumPy%20array%20to%20a%20Pandas%20Series.ipynb\" target=\"_parent\"><img src=\"https://colab.research.google.com/assets/colab-badge.svg\" alt=\"Open In Colab\"/></a>"
      ]
    },
    {
      "cell_type": "markdown",
      "source": [],
      "metadata": {
        "id": "9eptvnPPopU3"
      }
    },
    {
      "cell_type": "markdown",
      "source": [
        "Program to convert a NumPy array to a Pandas Series"
      ],
      "metadata": {
        "id": "9VdtC3EMoqxm"
      }
    },
    {
      "cell_type": "code",
      "source": [
        "import numpy as np\n",
        "import pandas as pd"
      ],
      "metadata": {
        "id": "ASzR1oafovU2"
      },
      "execution_count": 1,
      "outputs": []
    },
    {
      "cell_type": "code",
      "source": [
        "np_array = np.array([10, 20, 30, 40, 50])"
      ],
      "metadata": {
        "id": "L6yAhl9Xo0Ff"
      },
      "execution_count": 2,
      "outputs": []
    },
    {
      "cell_type": "code",
      "source": [
        "p_series = pd.Series(np_array)"
      ],
      "metadata": {
        "id": "buY9_k4Qo9Ow"
      },
      "execution_count": 3,
      "outputs": []
    },
    {
      "cell_type": "code",
      "source": [
        "print(p_series)"
      ],
      "metadata": {
        "colab": {
          "base_uri": "https://localhost:8080/"
        },
        "id": "bra7Poy3pCEm",
        "outputId": "d051dd0d-fee8-46c2-9b50-c0e812941f80"
      },
      "execution_count": 4,
      "outputs": [
        {
          "output_type": "stream",
          "name": "stdout",
          "text": [
            "0    10\n",
            "1    20\n",
            "2    30\n",
            "3    40\n",
            "4    50\n",
            "dtype: int64\n"
          ]
        }
      ]
    },
    {
      "cell_type": "code",
      "source": [],
      "metadata": {
        "id": "zZcE-OpRpFuu"
      },
      "execution_count": null,
      "outputs": []
    }
  ]
}