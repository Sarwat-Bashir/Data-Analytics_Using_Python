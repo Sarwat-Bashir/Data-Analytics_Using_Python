{
  "nbformat": 4,
  "nbformat_minor": 0,
  "metadata": {
    "colab": {
      "provenance": [],
      "authorship_tag": "ABX9TyN20XX+TbyEgx2Rs2EQq6Ka",
      "include_colab_link": true
    },
    "kernelspec": {
      "name": "python3",
      "display_name": "Python 3"
    },
    "language_info": {
      "name": "python"
    }
  },
  "cells": [
    {
      "cell_type": "markdown",
      "metadata": {
        "id": "view-in-github",
        "colab_type": "text"
      },
      "source": [
        "<a href=\"https://colab.research.google.com/github/Sarwat-Bashir/Data-Analytics_Using_Python/blob/main/Generate%2015%20random%20numbers%20from%20a%20standard%20normal%20distribution.ipynb\" target=\"_parent\"><img src=\"https://colab.research.google.com/assets/colab-badge.svg\" alt=\"Open In Colab\"/></a>"
      ]
    },
    {
      "cell_type": "code",
      "execution_count": null,
      "metadata": {
        "id": "8NbcHHSpasQL"
      },
      "outputs": [],
      "source": []
    },
    {
      "cell_type": "markdown",
      "source": [
        "Generate 15 random numbers from a standard normal distribution"
      ],
      "metadata": {
        "id": "Fzt_lD7sa9-a"
      }
    },
    {
      "cell_type": "code",
      "source": [
        "import numpy as np\n"
      ],
      "metadata": {
        "id": "8BS2y8jXa_0o"
      },
      "execution_count": 1,
      "outputs": []
    },
    {
      "cell_type": "code",
      "source": [
        "rand_num = np.random.standard_normal(15)\n",
        "print(rand_num)"
      ],
      "metadata": {
        "colab": {
          "base_uri": "https://localhost:8080/"
        },
        "id": "Qga82henbCfQ",
        "outputId": "6c09af2e-11c0-4f04-e764-64eac1be5aff"
      },
      "execution_count": 2,
      "outputs": [
        {
          "output_type": "stream",
          "name": "stdout",
          "text": [
            "[-0.67105954  2.09256742  2.06360649  0.46482725  1.20121928  0.90419301\n",
            " -0.79556216 -0.26781861  0.41468191 -0.39440024 -0.76489453 -0.01244258\n",
            "  0.99810536 -0.4034314  -0.4072031 ]\n"
          ]
        }
      ]
    },
    {
      "cell_type": "code",
      "source": [],
      "metadata": {
        "id": "F2MhSjfxbIuj"
      },
      "execution_count": null,
      "outputs": []
    }
  ]
}