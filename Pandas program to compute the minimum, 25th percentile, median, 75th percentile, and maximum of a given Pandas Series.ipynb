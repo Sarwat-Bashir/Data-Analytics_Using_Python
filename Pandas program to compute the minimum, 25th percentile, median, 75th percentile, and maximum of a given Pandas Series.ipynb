{
  "nbformat": 4,
  "nbformat_minor": 0,
  "metadata": {
    "colab": {
      "provenance": [],
      "authorship_tag": "ABX9TyNIU+O8lYu8kAR9vFtTGHBU",
      "include_colab_link": true
    },
    "kernelspec": {
      "name": "python3",
      "display_name": "Python 3"
    },
    "language_info": {
      "name": "python"
    }
  },
  "cells": [
    {
      "cell_type": "markdown",
      "metadata": {
        "id": "view-in-github",
        "colab_type": "text"
      },
      "source": [
        "<a href=\"https://colab.research.google.com/github/Sarwat-Bashir/Data-Analytics_Using_Python/blob/main/Pandas%20program%20to%20compute%20the%20minimum%2C%2025th%20percentile%2C%20median%2C%2075th%20percentile%2C%20and%20maximum%20of%20a%20given%20Pandas%20Series.ipynb\" target=\"_parent\"><img src=\"https://colab.research.google.com/assets/colab-badge.svg\" alt=\"Open In Colab\"/></a>"
      ]
    },
    {
      "cell_type": "markdown",
      "source": [
        "Pandas program to compute the minimum, 25th percentile, median, 75th percentile, and maximum of a given Pandas Series"
      ],
      "metadata": {
        "id": "abFtNKRTuCKm"
      }
    },
    {
      "cell_type": "code",
      "source": [
        "import pandas as pd"
      ],
      "metadata": {
        "id": "HVop1f5ZuC1t"
      },
      "execution_count": 1,
      "outputs": []
    },
    {
      "cell_type": "code",
      "source": [
        "data = pd.Series([10, 20, 30, 40, 50, 60, 70])"
      ],
      "metadata": {
        "id": "4vqtIue-uFnO"
      },
      "execution_count": 2,
      "outputs": []
    },
    {
      "cell_type": "code",
      "source": [
        "min = data.min()\n",
        "percent_25 = data.quantile(0.25)\n",
        "median = data.median()\n",
        "percent_75 = data.quantile(0.75)\n",
        "max= data.max()"
      ],
      "metadata": {
        "id": "lTSfgXlYuHtX"
      },
      "execution_count": 3,
      "outputs": []
    },
    {
      "cell_type": "code",
      "source": [
        "print(\"Minimum:\", min)\n",
        "print(\"25th percentile:\", percent_25)\n",
        "print(\"Median:\", median)\n",
        "print(\"75th percentile:\", percent_75)\n",
        "print(\"Maximum:\", max)"
      ],
      "metadata": {
        "colab": {
          "base_uri": "https://localhost:8080/"
        },
        "id": "NJVdUg65uO51",
        "outputId": "59fd6645-f491-4535-f6f6-f253fbe3495a"
      },
      "execution_count": 4,
      "outputs": [
        {
          "output_type": "stream",
          "name": "stdout",
          "text": [
            "Minimum: 10\n",
            "25th percentile: 25.0\n",
            "Median: 40.0\n",
            "75th percentile: 55.0\n",
            "Maximum: 70\n"
          ]
        }
      ]
    },
    {
      "cell_type": "code",
      "source": [],
      "metadata": {
        "id": "WBSJ14HguUud"
      },
      "execution_count": null,
      "outputs": []
    }
  ]
}