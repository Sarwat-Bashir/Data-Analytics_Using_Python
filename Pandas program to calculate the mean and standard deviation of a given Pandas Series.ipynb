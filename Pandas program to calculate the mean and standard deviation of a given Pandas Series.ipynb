{
  "nbformat": 4,
  "nbformat_minor": 0,
  "metadata": {
    "colab": {
      "provenance": [],
      "authorship_tag": "ABX9TyNxzIG6whymE6WGJOFJKCx0",
      "include_colab_link": true
    },
    "kernelspec": {
      "name": "python3",
      "display_name": "Python 3"
    },
    "language_info": {
      "name": "python"
    }
  },
  "cells": [
    {
      "cell_type": "markdown",
      "metadata": {
        "id": "view-in-github",
        "colab_type": "text"
      },
      "source": [
        "<a href=\"https://colab.research.google.com/github/Sarwat-Bashir/Data-Analytics_Using_Python/blob/main/Pandas%20program%20to%20calculate%20the%20mean%20and%20standard%20deviation%20of%20a%20given%20Pandas%20Series.ipynb\" target=\"_parent\"><img src=\"https://colab.research.google.com/assets/colab-badge.svg\" alt=\"Open In Colab\"/></a>"
      ]
    },
    {
      "cell_type": "markdown",
      "source": [
        "Pandas program to calculate the mean and standard deviation of a given Pandas Series"
      ],
      "metadata": {
        "id": "HsAsWL3asOde"
      }
    },
    {
      "cell_type": "code",
      "source": [
        "import pandas as pd\n"
      ],
      "metadata": {
        "id": "VI36aAPXsPe_"
      },
      "execution_count": 1,
      "outputs": []
    },
    {
      "cell_type": "code",
      "source": [
        "data = pd.Series([10, 20, 30, 40, 50])"
      ],
      "metadata": {
        "id": "W7yBaWnYsRvH"
      },
      "execution_count": 2,
      "outputs": []
    },
    {
      "cell_type": "code",
      "source": [
        "# Calculate mean\n",
        "mean_val = data.mean()"
      ],
      "metadata": {
        "id": "tClL2XCKsUmW"
      },
      "execution_count": 3,
      "outputs": []
    },
    {
      "cell_type": "code",
      "source": [
        "# Calculate standard deviation\n",
        "std_dev = data.std()"
      ],
      "metadata": {
        "id": "Ss4UmbM7scVe"
      },
      "execution_count": 4,
      "outputs": []
    },
    {
      "cell_type": "code",
      "source": [
        "print(\"Mean of the series:\", mean_val)\n",
        "print(\"Standard deviation of the series:\", std_dev)"
      ],
      "metadata": {
        "colab": {
          "base_uri": "https://localhost:8080/"
        },
        "id": "HhxXkDILsfe2",
        "outputId": "0cd67ffc-3478-4c30-9c0a-512fa110330d"
      },
      "execution_count": 6,
      "outputs": [
        {
          "output_type": "stream",
          "name": "stdout",
          "text": [
            "Mean of the series: 30.0\n",
            "Standard deviation of the series: 15.811388300841896\n"
          ]
        }
      ]
    },
    {
      "cell_type": "code",
      "source": [],
      "metadata": {
        "id": "SbqA0OjysiYI"
      },
      "execution_count": null,
      "outputs": []
    }
  ]
}